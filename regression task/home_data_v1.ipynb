{
    "cells": [
        {
            "cell_type": "code",
            "execution_count": 1,
            "source": [
                "from sklearn.preprocessing import OneHotEncoder\r\n",
                "from sklearn.impute import SimpleImputer\r\n",
                "from sklearn.preprocessing import OrdinalEncoder\r\n",
                "from sklearn.pipeline import Pipeline\r\n",
                "from sklearn.compose import ColumnTransformer\r\n",
                "import pandas as pd "
            ],
            "outputs": [],
            "metadata": {}
        },
        {
            "cell_type": "code",
            "execution_count": 2,
            "source": [
                "train = pd.read_csv('C:\\\\Users\\\\Aminou Ahmad\\\\Aminu Ahmadh\\\\Datasets\\\\home-data-for-ml-course\\\\train.csv')\r\n",
                "test = pd.read_csv('C:\\\\Users\\\\Aminou Ahmad\\\\Aminu Ahmadh\\\\Datasets\\\\home-data-for-ml-course\\\\test.csv')"
            ],
            "outputs": [],
            "metadata": {}
        },
        {
            "cell_type": "code",
            "execution_count": 3,
            "source": [
                "train.columns"
            ],
            "outputs": [
                {
                    "output_type": "execute_result",
                    "data": {
                        "text/plain": [
                            "Index(['Id', 'MSSubClass', 'MSZoning', 'LotFrontage', 'LotArea', 'Street',\n",
                            "       'Alley', 'LotShape', 'LandContour', 'Utilities', 'LotConfig',\n",
                            "       'LandSlope', 'Neighborhood', 'Condition1', 'Condition2', 'BldgType',\n",
                            "       'HouseStyle', 'OverallQual', 'OverallCond', 'YearBuilt', 'YearRemodAdd',\n",
                            "       'RoofStyle', 'RoofMatl', 'Exterior1st', 'Exterior2nd', 'MasVnrType',\n",
                            "       'MasVnrArea', 'ExterQual', 'ExterCond', 'Foundation', 'BsmtQual',\n",
                            "       'BsmtCond', 'BsmtExposure', 'BsmtFinType1', 'BsmtFinSF1',\n",
                            "       'BsmtFinType2', 'BsmtFinSF2', 'BsmtUnfSF', 'TotalBsmtSF', 'Heating',\n",
                            "       'HeatingQC', 'CentralAir', 'Electrical', '1stFlrSF', '2ndFlrSF',\n",
                            "       'LowQualFinSF', 'GrLivArea', 'BsmtFullBath', 'BsmtHalfBath', 'FullBath',\n",
                            "       'HalfBath', 'BedroomAbvGr', 'KitchenAbvGr', 'KitchenQual',\n",
                            "       'TotRmsAbvGrd', 'Functional', 'Fireplaces', 'FireplaceQu', 'GarageType',\n",
                            "       'GarageYrBlt', 'GarageFinish', 'GarageCars', 'GarageArea', 'GarageQual',\n",
                            "       'GarageCond', 'PavedDrive', 'WoodDeckSF', 'OpenPorchSF',\n",
                            "       'EnclosedPorch', '3SsnPorch', 'ScreenPorch', 'PoolArea', 'PoolQC',\n",
                            "       'Fence', 'MiscFeature', 'MiscVal', 'MoSold', 'YrSold', 'SaleType',\n",
                            "       'SaleCondition', 'SalePrice'],\n",
                            "      dtype='object')"
                        ]
                    },
                    "metadata": {},
                    "execution_count": 3
                }
            ],
            "metadata": {}
        },
        {
            "cell_type": "code",
            "execution_count": 4,
            "source": [
                "y = train['SalePrice']\r\n",
                "X = train.drop('SalePrice', axis=1)"
            ],
            "outputs": [],
            "metadata": {}
        },
        {
            "cell_type": "code",
            "execution_count": 5,
            "source": [
                "from sklearn.model_selection import  train_test_split"
            ],
            "outputs": [],
            "metadata": {}
        },
        {
            "cell_type": "code",
            "execution_count": 6,
            "source": [
                "X_train_full, X_valid_full, y_train, y_valid = train_test_split(X, y, train_size=0.8, test_size=0.2, random_state=0)"
            ],
            "outputs": [],
            "metadata": {}
        },
        {
            "cell_type": "code",
            "execution_count": 7,
            "source": [
                "cat_cols = [col for col in X_train_full.columns if X_train_full[col].dtype == 'object' and X_train_full[col].nunique() < 6]\r\n",
                "num_cols = [col for col in X_train_full.columns if X_train_full[col].dtype in ['int64', 'float64']]"
            ],
            "outputs": [],
            "metadata": {}
        },
        {
            "cell_type": "code",
            "execution_count": 8,
            "source": [
                "cols = cat_cols + num_cols"
            ],
            "outputs": [],
            "metadata": {}
        },
        {
            "cell_type": "code",
            "execution_count": 9,
            "source": [
                "X_train = X_train_full[cols]\r\n",
                "X_valid = X_valid_full[cols]"
            ],
            "outputs": [],
            "metadata": {}
        },
        {
            "cell_type": "code",
            "execution_count": 10,
            "source": [
                "X_train[cat_cols].isnull().sum()"
            ],
            "outputs": [
                {
                    "output_type": "execute_result",
                    "data": {
                        "text/plain": [
                            "MSZoning           0\n",
                            "Street             0\n",
                            "Alley           1097\n",
                            "LotShape           0\n",
                            "LandContour        0\n",
                            "Utilities          0\n",
                            "LotConfig          0\n",
                            "LandSlope          0\n",
                            "BldgType           0\n",
                            "MasVnrType         6\n",
                            "ExterQual          0\n",
                            "ExterCond          0\n",
                            "BsmtQual          28\n",
                            "BsmtCond          28\n",
                            "BsmtExposure      28\n",
                            "HeatingQC          0\n",
                            "CentralAir         0\n",
                            "Electrical         1\n",
                            "KitchenQual        0\n",
                            "FireplaceQu      551\n",
                            "GarageFinish      58\n",
                            "GarageQual        58\n",
                            "GarageCond        58\n",
                            "PavedDrive         0\n",
                            "PoolQC          1164\n",
                            "Fence            954\n",
                            "MiscFeature     1119\n",
                            "dtype: int64"
                        ]
                    },
                    "metadata": {},
                    "execution_count": 10
                }
            ],
            "metadata": {}
        },
        {
            "cell_type": "code",
            "execution_count": 11,
            "source": [
                "# Drop columns with over 800 missing values\r\n",
                "to_drop = ['MiscFeature', 'Fence', 'PoolQC', 'Alley']\r\n",
                "X_train.drop(to_drop, axis=1, inplace=True)\r\n",
                "X_valid.drop(to_drop, axis=1, inplace=True)"
            ],
            "outputs": [
                {
                    "output_type": "stream",
                    "name": "stderr",
                    "text": [
                        "C:\\Users\\Aminou Ahmad\\AppData\\Local\\Programs\\Python\\Python39\\lib\\site-packages\\pandas\\core\\frame.py:4901: SettingWithCopyWarning: \n",
                        "A value is trying to be set on a copy of a slice from a DataFrame\n",
                        "\n",
                        "See the caveats in the documentation: https://pandas.pydata.org/pandas-docs/stable/user_guide/indexing.html#returning-a-view-versus-a-copy\n",
                        "  return super().drop(\n"
                    ]
                }
            ],
            "metadata": {}
        },
        {
            "cell_type": "code",
            "execution_count": 15,
            "source": [
                "cat_tr = Pipeline([('impute', SimpleImputer(strategy='most_frequent')), ('onehot', OneHotEncoder())])\r\n",
                "num_tr = Pipeline([('impute', SimpleImputer(strategy='median'))])"
            ],
            "outputs": [],
            "metadata": {}
        },
        {
            "cell_type": "code",
            "execution_count": 16,
            "source": [
                "qualitative = [col for col in X_train.columns if X_train[col].dtype == 'object']\r\n",
                "quantitative = [col for col in X_train.columns if X_train[col].dtype != 'object']"
            ],
            "outputs": [],
            "metadata": {}
        },
        {
            "cell_type": "code",
            "execution_count": 17,
            "source": [
                "transformer = ColumnTransformer([('cat', cat_tr, qualitative), ('num', num_tr, quantitative)])"
            ],
            "outputs": [],
            "metadata": {}
        },
        {
            "cell_type": "code",
            "execution_count": 18,
            "source": [
                "from sklearn.tree import DecisionTreeRegressor\r\n",
                "model = DecisionTreeRegressor(random_state=0)"
            ],
            "outputs": [],
            "metadata": {}
        },
        {
            "cell_type": "code",
            "execution_count": 19,
            "source": [
                "my_pipe = Pipeline([('preprocessing',  transformer), ('model', model)])"
            ],
            "outputs": [],
            "metadata": {}
        },
        {
            "cell_type": "code",
            "execution_count": 20,
            "source": [
                "my_pipe.fit(X_train, y_train);"
            ],
            "outputs": [],
            "metadata": {}
        },
        {
            "cell_type": "code",
            "execution_count": 21,
            "source": [
                "preds = my_pipe.predict(X_valid)"
            ],
            "outputs": [],
            "metadata": {}
        },
        {
            "cell_type": "code",
            "execution_count": 22,
            "source": [
                "from sklearn.metrics import  mean_absolute_error"
            ],
            "outputs": [],
            "metadata": {}
        },
        {
            "cell_type": "code",
            "execution_count": 24,
            "source": [
                "print('MAE:', mean_absolute_error(y_valid, preds))"
            ],
            "outputs": [
                {
                    "output_type": "stream",
                    "name": "stdout",
                    "text": [
                        "mae:  25256.859589041094\n"
                    ]
                }
            ],
            "metadata": {}
        }
    ],
    "metadata": {
        "orig_nbformat": 4,
        "language_info": {
            "name": "python",
            "version": "3.9.5",
            "mimetype": "text/x-python",
            "codemirror_mode": {
                "name": "ipython",
                "version": 3
            },
            "pygments_lexer": "ipython3",
            "nbconvert_exporter": "python",
            "file_extension": ".py"
        },
        "kernelspec": {
            "name": "python3",
            "display_name": "Python 3.9.5 64-bit"
        },
        "interpreter": {
            "hash": "0ac051481fb55a289e6d3811842eb52f8d8778857a84b9402ebfcfeb0effd68f"
        }
    },
    "nbformat": 4,
    "nbformat_minor": 2
}