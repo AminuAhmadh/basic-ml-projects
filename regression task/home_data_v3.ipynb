{
    "cells": [
        {
            "cell_type": "code",
            "execution_count": 1,
            "source": [
                "import os\r\n",
                "import pandas as pd \r\n",
                "from sklearn.impute import SimpleImputer\r\n",
                "from sklearn.pipeline import Pipeline \r\n",
                "from sklearn.ensemble import RandomForestRegressor\r\n",
                "from sklearn.model_selection import train_test_split\r\n",
                "from sklearn.metrics import mean_absolute_error\r\n",
                "from sklearn.preprocessing import  OneHotEncoder\r\n",
                "from sklearn.compose import  ColumnTransformer"
            ],
            "outputs": [],
            "metadata": {}
        },
        {
            "cell_type": "code",
            "execution_count": 2,
            "source": [
                "data = pd.read_csv('..\\\\Datasets\\\\home-data-for-ml-course\\\\train.csv')\r\n",
                "test = pd.read_csv('..\\\\Datasets\\\\home-data-for-ml-course\\\\test.csv')"
            ],
            "outputs": [],
            "metadata": {}
        },
        {
            "cell_type": "code",
            "execution_count": 3,
            "source": [
                "y = data.SalePrice\r\n",
                "X = data.drop('SalePrice', axis=1)"
            ],
            "outputs": [],
            "metadata": {}
        },
        {
            "cell_type": "code",
            "execution_count": 4,
            "source": [
                "# split the training into training and validation set\r\n",
                "X_train_full, X_valid_full, y_train, y_valid = train_test_split(X, y, train_size=0.8, test_size=0.2, random_state=0)"
            ],
            "outputs": [],
            "metadata": {}
        },
        {
            "cell_type": "code",
            "execution_count": 5,
            "source": [
                "# categorical columns to work with\r\n",
                "cat_cols = [col for col in X_train_full.columns if X_train_full[col].dtype == 'object' and X_train_full[col].nunique() < 6]\r\n",
                "\r\n",
                "# Numerical columns to work with\r\n",
                "num_cols = [col for col in X_train_full.columns if X_train_full[col].dtype in ['int64', 'float64']]\r\n",
                "\r\n",
                "# join the columns together\r\n",
                "cols = cat_cols + num_cols"
            ],
            "outputs": [],
            "metadata": {}
        },
        {
            "cell_type": "code",
            "execution_count": 6,
            "source": [
                "X_train = X_train_full[cols]\r\n",
                "X_valid = X_valid_full[cols]"
            ],
            "outputs": [],
            "metadata": {}
        },
        {
            "cell_type": "code",
            "execution_count": 7,
            "source": [
                "# categorical transformer\r\n",
                "cat_trans = Pipeline(steps=[('impute', SimpleImputer(strategy='most_frequent')), ('onehot', OneHotEncoder(handle_unknown='ignore'))])\r\n",
                "# quantitative transformer\r\n",
                "num_trans = SimpleImputer(strategy='median')"
            ],
            "outputs": [],
            "metadata": {}
        },
        {
            "cell_type": "code",
            "execution_count": 8,
            "source": [
                "# join the categorical and numerical transformer together\r\n",
                "preprocess = ColumnTransformer(transformers=[('num', num_trans, num_cols), ('cat', cat_trans, cat_cols)])"
            ],
            "outputs": [],
            "metadata": {}
        },
        {
            "cell_type": "code",
            "execution_count": 9,
            "source": [
                "from sklearn.tree import  DecisionTreeRegressor\r\n",
                "from sklearn.linear_model import LinearRegression\r\n",
                "from sklearn.model_selection import GridSearchCV"
            ],
            "outputs": [],
            "metadata": {}
        },
        {
            "cell_type": "code",
            "execution_count": 10,
            "source": [
                "forest_model = RandomForestRegressor(random_state=0)\r\n",
                "tree_model = DecisionTreeRegressor(random_state=0)"
            ],
            "outputs": [],
            "metadata": {}
        },
        {
            "cell_type": "code",
            "execution_count": 11,
            "source": [
                "pipe = Pipeline(steps=[('preprocessor', preprocess)])"
            ],
            "outputs": [],
            "metadata": {}
        },
        {
            "cell_type": "code",
            "execution_count": 12,
            "source": [
                "forest_pipeline = Pipeline(steps=[('preprocessor', preprocess), ('model', forest_model)])"
            ],
            "outputs": [],
            "metadata": {}
        },
        {
            "cell_type": "code",
            "execution_count": 13,
            "source": [
                "tree_pipeline = Pipeline(steps=[('preprocessor', preprocess), ('model', tree_model)])"
            ],
            "outputs": [],
            "metadata": {}
        },
        {
            "cell_type": "code",
            "execution_count": 14,
            "source": [
                "forest_pipeline.fit(X_train, y_train);\r\n",
                "tree_pipeline.fit(X_train, y_train);"
            ],
            "outputs": [],
            "metadata": {}
        },
        {
            "cell_type": "code",
            "execution_count": 15,
            "source": [
                "forest_preds = forest_pipeline.predict(X_valid)\r\n",
                "tree_preds = tree_pipeline.predict(X_valid)"
            ],
            "outputs": [],
            "metadata": {}
        },
        {
            "cell_type": "code",
            "execution_count": 16,
            "source": [
                "X_trn = pipe.fit_transform(X_train)\r\n",
                "X_val = pipe.transform(X_valid)"
            ],
            "outputs": [],
            "metadata": {}
        },
        {
            "cell_type": "code",
            "execution_count": 17,
            "source": [
                "forest_param_grid = [\r\n",
                "{'n_estimators': [100, 150, 200, 350, 500], 'max_features': [8, 10, 20, 30, 40]}]\r\n",
                "\r\n",
                "forest_grid_search = GridSearchCV(forest_model, forest_param_grid, cv=5,\r\n",
                "scoring='neg_mean_absolute_error', return_train_score=True)\r\n",
                "\r\n",
                "forest_grid_search.fit(X_trn, y_train);"
            ],
            "outputs": [],
            "metadata": {}
        },
        {
            "cell_type": "code",
            "execution_count": 18,
            "source": [
                "forest_grid_search.best_params_"
            ],
            "outputs": [
                {
                    "output_type": "execute_result",
                    "data": {
                        "text/plain": [
                            "{'max_features': 40, 'n_estimators': 500}"
                        ]
                    },
                    "metadata": {},
                    "execution_count": 18
                }
            ],
            "metadata": {}
        },
        {
            "cell_type": "markdown",
            "source": [
                "## Putting higher num of n_estimator can result in Overfitting. but let's just go with that"
            ],
            "metadata": {}
        },
        {
            "cell_type": "code",
            "execution_count": 19,
            "source": [
                "# use the best parameters it suggest\r\n",
                "forest_reg_model = RandomForestRegressor(max_features= 40, n_estimators = 500, random_state=0)"
            ],
            "outputs": [],
            "metadata": {}
        },
        {
            "cell_type": "code",
            "execution_count": 20,
            "source": [
                "forest_reg_model.fit(X_trn, y_train)"
            ],
            "outputs": [
                {
                    "output_type": "execute_result",
                    "data": {
                        "text/plain": [
                            "RandomForestRegressor(max_features=40, n_estimators=500, random_state=0)"
                        ]
                    },
                    "metadata": {},
                    "execution_count": 20
                }
            ],
            "metadata": {}
        },
        {
            "cell_type": "code",
            "execution_count": 21,
            "source": [
                "forest_reg_preds = forest_reg_model.predict(X_val)"
            ],
            "outputs": [],
            "metadata": {}
        },
        {
            "cell_type": "code",
            "execution_count": 22,
            "source": [
                "tree_param_grid = [\r\n",
                "{'min_samples_split': [2, 4, 6], 'criterion': ['mse', 'friedman_mse', 'mae', 'poisson'], 'splitter': ['best', 'random'], \r\n",
                "'max_leaf_nodes': [5, 10, 15, 20, 25, 30, 50, 100, 300, 500]}\r\n",
                "]\r\n",
                "\r\n",
                "tree_grid_search = GridSearchCV(tree_model, tree_param_grid, cv=5,\r\n",
                "scoring='neg_mean_absolute_error', return_train_score=True)\r\n",
                "\r\n",
                "tree_grid_search.fit(X_trn, y_train);"
            ],
            "outputs": [],
            "metadata": {}
        },
        {
            "cell_type": "code",
            "execution_count": 23,
            "source": [
                "tree_grid_search.best_params_"
            ],
            "outputs": [
                {
                    "output_type": "execute_result",
                    "data": {
                        "text/plain": [
                            "{'criterion': 'mae',\n",
                            " 'max_leaf_nodes': 30,\n",
                            " 'min_samples_split': 2,\n",
                            " 'splitter': 'best'}"
                        ]
                    },
                    "metadata": {},
                    "execution_count": 23
                }
            ],
            "metadata": {}
        },
        {
            "cell_type": "code",
            "execution_count": 24,
            "source": [
                "# use the parameters it suggest\r\n",
                "tree_reg_model = DecisionTreeRegressor(criterion='mse', max_leaf_nodes=30, min_samples_split=2, splitter='best', random_state=0)"
            ],
            "outputs": [],
            "metadata": {}
        },
        {
            "cell_type": "code",
            "execution_count": 25,
            "source": [
                "tree_reg_model.fit(X_trn, y_train)"
            ],
            "outputs": [
                {
                    "output_type": "execute_result",
                    "data": {
                        "text/plain": [
                            "DecisionTreeRegressor(max_leaf_nodes=30, random_state=0)"
                        ]
                    },
                    "metadata": {},
                    "execution_count": 25
                }
            ],
            "metadata": {}
        },
        {
            "cell_type": "code",
            "execution_count": 26,
            "source": [
                "tree_reg_preds = tree_reg_model.predict(X_val)"
            ],
            "outputs": [],
            "metadata": {}
        },
        {
            "cell_type": "markdown",
            "source": [
                "## Final result below. Before tunning and After tunning"
            ],
            "metadata": {}
        },
        {
            "cell_type": "code",
            "execution_count": 27,
            "source": [
                "print('MAE for forest before tunning (Default params):', mean_absolute_error(y_valid, forest_preds))\r\n",
                "print('MAE for forest after tunning:', mean_absolute_error(y_valid, forest_reg_preds))\r\n",
                "print()\r\n",
                "print('MAE for tree before tunning (Default params):', mean_absolute_error(y_valid, tree_preds))\r\n",
                "print('MAE for tree after tunning:', mean_absolute_error(y_valid, tree_reg_preds))"
            ],
            "outputs": [
                {
                    "output_type": "stream",
                    "name": "stdout",
                    "text": [
                        "MAE for forest before tunning (Default params): 17882.278493150687\n",
                        "MAE for forest after tunning: 17321.373198630135\n",
                        "\n",
                        "MAE for tree before tunning (Default params): 26028.130136986303\n",
                        "MAE for tree after tunning: 24157.303452818458\n"
                    ]
                }
            ],
            "metadata": {}
        },
        {
            "cell_type": "markdown",
            "source": [
                "## We improved a bit after tunning the Random forest"
            ],
            "metadata": {}
        }
    ],
    "metadata": {
        "orig_nbformat": 4,
        "language_info": {
            "name": "python",
            "version": "3.9.5",
            "mimetype": "text/x-python",
            "codemirror_mode": {
                "name": "ipython",
                "version": 3
            },
            "pygments_lexer": "ipython3",
            "nbconvert_exporter": "python",
            "file_extension": ".py"
        },
        "kernelspec": {
            "name": "python3",
            "display_name": "Python 3.9.5 64-bit"
        },
        "interpreter": {
            "hash": "0ac051481fb55a289e6d3811842eb52f8d8778857a84b9402ebfcfeb0effd68f"
        }
    },
    "nbformat": 4,
    "nbformat_minor": 2
}